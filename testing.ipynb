{
 "cells": [
  {
   "cell_type": "code",
   "execution_count": 1,
   "metadata": {},
   "outputs": [],
   "source": [
    "import pytensor\n",
    "import numpy as np\n",
    "import jax\n",
    "import jax.numpy as jnp\n",
    "import optax\n",
    "from jax import grad\n",
    "\n",
    "from pytensor_ml.loss import SquaredError\n",
    "from pytensor_ml.model import Model\n",
    "from pytensor_ml.optimizers import Adam"
   ]
  },
  {
   "cell_type": "code",
   "execution_count": 2,
   "metadata": {},
   "outputs": [],
   "source": [
    "\n",
    "# Set seeds for reproducibility\n",
    "rng = np.random.default_rng(seed=42)\n",
    "\n",
    "# Data (simple linear regression y = 3x + 2)\n",
    "X_np = rng.random(size=(10, 1), dtype=np.float32)\n",
    "y_np = 3 * X_np + 2 + rng.normal(scale=0.1, size=(10, 1)).astype(np.float32)"
   ]
  },
  {
   "cell_type": "code",
   "execution_count": 3,
   "metadata": {},
   "outputs": [
    {
     "data": {
      "text/plain": [
       "(10, 1)"
      ]
     },
     "execution_count": 3,
     "metadata": {},
     "output_type": "execute_result"
    }
   ],
   "source": [
    "X_np.shape"
   ]
  },
  {
   "cell_type": "code",
   "execution_count": null,
   "metadata": {},
   "outputs": [],
   "source": [
    "# Pytensor setup\n",
    "X_in = pytensor.tensor.tensor('X_in', shape=X_np.shape)\n",
    "y_in = 3 * X_in + 2 + rng.normal(scale=0.1, size=(10, 1)).astype(np.float32)\n",
    "f = pytensor.function([X_np], y_np)\n",
    "model = Model(X_np, f)\n",
    "loss_fn = SquaredError()\n",
    "optim = Adam(model, loss_fn, ndim_out=1, learning_rate=0.01)\n"
   ]
  },
  {
   "cell_type": "code",
   "execution_count": null,
   "metadata": {},
   "outputs": [],
   "source": [
    "\n",
    "# JAX setup\n",
    "def model_jax(params, x):\n",
    "    return jnp.dot(x, params['w']) + params['b']\n",
    "\n",
    "params_jax = {\n",
    "    'w': jnp.array([[0.0]], dtype=jnp.float32),\n",
    "    'b': jnp.array([0.0], dtype=jnp.float32)\n",
    "}\n",
    "\n",
    "def loss_fn(params, x, y):\n",
    "    preds = model_jax(params, x)\n",
    "    return jnp.mean((preds - y) ** 2)\n",
    "\n",
    "optimizer_jax = optax.adam(learning_rate=0.01)\n",
    "opt_state = optimizer_jax.init(params_jax)\n",
    "\n",
    "# Training step for JAX\n",
    "@jax.jit\n",
    "def train_step_jax(params, opt_state, x, y):\n",
    "    grads = grad(loss_fn)(params, x, y)\n",
    "    updates, opt_state = optimizer_jax.update(grads, opt_state)\n",
    "    params = optax.apply_updates(params, updates)\n",
    "    return params, opt_state, loss_fn(params, x, y), grads\n",
    "\n",
    "# Convert numpy arrays to torch tensors and jax arrays\n",
    "X_jax = jnp.array(X_np)\n",
    "y_jax = jnp.array(y_np)\n",
    "\n",
    "# Training loop\n",
    "num_epochs = 100\n",
    "\n",
    "for epoch in range(num_epochs):\n",
    "    params_jax, opt_state, loss_jax, updates_jax = train_step_jax(params_jax, opt_state, X_jax, y_jax)\n",
    "\n",
    "    if epoch % 10 == 0:\n",
    "        # Something to compare"
   ]
  }
 ],
 "metadata": {
  "kernelspec": {
   "display_name": "pytensor-ml",
   "language": "python",
   "name": "python3"
  },
  "language_info": {
   "codemirror_mode": {
    "name": "ipython",
    "version": 3
   },
   "file_extension": ".py",
   "mimetype": "text/x-python",
   "name": "python",
   "nbconvert_exporter": "python",
   "pygments_lexer": "ipython3",
   "version": "3.12.3"
  }
 },
 "nbformat": 4,
 "nbformat_minor": 2
}
